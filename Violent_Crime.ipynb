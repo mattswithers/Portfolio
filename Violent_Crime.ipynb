{
  "nbformat": 4,
  "nbformat_minor": 0,
  "metadata": {
    "colab": {
      "name": "Violent_Crime.ipynb",
      "provenance": []
    },
    "kernelspec": {
      "name": "python3",
      "display_name": "Python 3"
    },
    "language_info": {
      "name": "python"
    }
  },
  "cells": [
    {
      "cell_type": "markdown",
      "source": [
        "##Import libraries and data"
      ],
      "metadata": {
        "id": "QRo5Hl7k8Hjr"
      }
    },
    {
      "cell_type": "code",
      "source": [
        "import numpy as np\n",
        "import matplotlib.pyplot as plt\n",
        "import pandas as pd\n",
        "import tensorflow as tf"
      ],
      "metadata": {
        "id": "4glNq_DC8O3B"
      },
      "execution_count": 1,
      "outputs": []
    },
    {
      "cell_type": "code",
      "source": [
        "df1 = pd.read_csv('2019 income data by county.csv', encoding='latin-1', thousands=',')\n",
        "df2 = pd.read_csv('co-est2019-alldata.csv', encoding='latin-1', thousands=',')\n",
        "df3 = pd.read_csv('Table_10_Offenses_Known_to_Law_Enforcement_by_State_by_Metropolitan_and_Nonmetropolitan_Counties_2019.csv', thousands=',')"
      ],
      "metadata": {
        "id": "9y3uTlr48PxJ"
      },
      "execution_count": 2,
      "outputs": []
    },
    {
      "cell_type": "markdown",
      "source": [
        "##Data cleaning\n",
        "Some data cleaning done in Excel, including use of VLookup."
      ],
      "metadata": {
        "id": "UkeTRAzmwiYL"
      }
    },
    {
      "cell_type": "code",
      "source": [
        "df1 = df1[df1.LineCode == 3]\n",
        "df1['State1'] = df1['State1'].str.strip()\n",
        "df1['County'] = df1['County'].str.strip()"
      ],
      "metadata": {
        "colab": {
          "base_uri": "https://localhost:8080/"
        },
        "id": "J7wEp1ydteL1",
        "outputId": "0d5124c8-4fe6-4964-d0ae-afb56b06609d"
      },
      "execution_count": 3,
      "outputs": [
        {
          "output_type": "stream",
          "name": "stderr",
          "text": [
            "/usr/local/lib/python3.7/dist-packages/ipykernel_launcher.py:2: SettingWithCopyWarning: \n",
            "A value is trying to be set on a copy of a slice from a DataFrame.\n",
            "Try using .loc[row_indexer,col_indexer] = value instead\n",
            "\n",
            "See the caveats in the documentation: https://pandas.pydata.org/pandas-docs/stable/user_guide/indexing.html#returning-a-view-versus-a-copy\n",
            "  \n",
            "/usr/local/lib/python3.7/dist-packages/ipykernel_launcher.py:3: SettingWithCopyWarning: \n",
            "A value is trying to be set on a copy of a slice from a DataFrame.\n",
            "Try using .loc[row_indexer,col_indexer] = value instead\n",
            "\n",
            "See the caveats in the documentation: https://pandas.pydata.org/pandas-docs/stable/user_guide/indexing.html#returning-a-view-versus-a-copy\n",
            "  This is separate from the ipykernel package so we can avoid doing imports until\n"
          ]
        }
      ]
    },
    {
      "cell_type": "markdown",
      "source": [
        "##Join data sets"
      ],
      "metadata": {
        "id": "PYbV58t7-Bqo"
      }
    },
    {
      "cell_type": "code",
      "source": [
        "from functools import reduce\n",
        "data_frames = [df3, df1, df2]\n",
        "data = reduce(lambda  left,right: pd.merge(left,right,on=['County', 'State1'],\n",
        "                                            how='outer', validate = 'many_to_many'), data_frames)"
      ],
      "metadata": {
        "id": "lOqANuOC-JKp"
      },
      "execution_count": 4,
      "outputs": []
    },
    {
      "cell_type": "code",
      "source": [
        "data = data.rename(columns={'Violent\\ncrime': 'Violent crime'})"
      ],
      "metadata": {
        "id": "yS2cjHe6ODJe"
      },
      "execution_count": 5,
      "outputs": []
    },
    {
      "cell_type": "markdown",
      "source": [
        "##Removing missing data"
      ],
      "metadata": {
        "id": "Q5KHAGtlBm1g"
      }
    },
    {
      "cell_type": "code",
      "source": [
        "data = data.dropna(subset=['2019', 'Metro', 'POPESTIMATE2019', 'Violent crime'])"
      ],
      "metadata": {
        "id": "4889nGiHBpkX"
      },
      "execution_count": 6,
      "outputs": []
    },
    {
      "cell_type": "code",
      "source": [
        "data.head(10)"
      ],
      "metadata": {
        "colab": {
          "base_uri": "https://localhost:8080/",
          "height": 508
        },
        "id": "StlPY2xbpQra",
        "outputId": "5403b987-28ed-4694-de82-c74134fe853e"
      },
      "execution_count": 7,
      "outputs": [
        {
          "output_type": "execute_result",
          "data": {
            "text/plain": [
              "     State State1  Metro    County  Violent crime  \\\n",
              "0  ARIZONA     AZ    1.0   Cochise           47.0   \n",
              "1  ARIZONA     AZ    1.0  Coconino          127.0   \n",
              "2  ARIZONA     AZ    1.0    Mohave          135.0   \n",
              "3  ARIZONA     AZ    1.0     Pinal          197.0   \n",
              "4  ARIZONA     AZ    1.0   Yavapai          193.0   \n",
              "5  ARIZONA     AZ    1.0      Yuma          136.0   \n",
              "6  ARIZONA     AZ    0.0      Gila          176.0   \n",
              "7  ARIZONA     AZ    0.0    Graham           61.0   \n",
              "8  ARIZONA     AZ    0.0    La Paz           40.0   \n",
              "9  ARIZONA     AZ    0.0    Navajo           43.0   \n",
              "\n",
              "   Murder and \\nnon negligent \\nmanslaughter  Rape  Robbery  \\\n",
              "0                                        0.0   1.0      3.0   \n",
              "1                                        6.0  17.0      1.0   \n",
              "2                                        3.0   6.0     19.0   \n",
              "3                                        3.0   5.0     18.0   \n",
              "4                                        5.0   0.0      4.0   \n",
              "5                                        7.0  17.0      6.0   \n",
              "6                                        1.0   3.0      5.0   \n",
              "7                                        4.0   0.0      0.0   \n",
              "8                                        1.0   2.0      3.0   \n",
              "9                                        1.0   0.0      5.0   \n",
              "\n",
              "   Aggravated \\nassault  Property \\ncrime  ...  RDOMESTICMIG2019  RNETMIG2011  \\\n",
              "0                  43.0             531.0  ...         -4.715990     5.465822   \n",
              "1                 103.0             264.0  ...          2.188819   -10.606686   \n",
              "2                 107.0            1983.0  ...         22.416620    14.124616   \n",
              "3                 171.0            1469.0  ...         31.178711    -9.572930   \n",
              "4                 184.0             860.0  ...         19.859876     3.957093   \n",
              "5                 106.0             807.0  ...          1.678424    18.906513   \n",
              "6                 167.0             384.0  ...          9.349002    -1.644844   \n",
              "7                  57.0             104.0  ...         15.800708    -8.077762   \n",
              "8                  34.0             310.0  ...          5.836714     5.547310   \n",
              "9                  37.0             341.0  ...          2.812367    -9.282273   \n",
              "\n",
              "   RNETMIG2012  RNETMIG2013  RNETMIG2014 RNETMIG2015  RNETMIG2016 RNETMIG2017  \\\n",
              "0   -12.002384   -22.079933   -21.690049   -9.686012    -7.773459   -7.224107   \n",
              "1     6.123785    -2.741483    -0.495871    3.623503     4.803683   -0.547248   \n",
              "2     5.987803     3.380298     5.071959   10.539293    10.371086   14.606150   \n",
              "3     5.763575     2.792943    20.012296   21.175225    24.445587   30.618893   \n",
              "4     8.467405    15.154393    19.137449   17.919324    21.662401   20.889990   \n",
              "5   -11.132055    -9.049260    -0.792179   -2.326263     2.744688    3.503266   \n",
              "6    -6.257399     1.490580     3.168347    2.207089    11.604943    8.210672   \n",
              "7   -10.412592     3.626692     7.943653  -14.297187    -8.881018  -16.124748   \n",
              "8    -2.285714     2.826304     1.559530    0.244010    11.674855    7.592978   \n",
              "9    -8.852070    -7.638215    -0.558566   -6.259897     2.674626    1.296278   \n",
              "\n",
              "  RNETMIG2018 RNETMIG2019  \n",
              "0   12.567904   -4.192872  \n",
              "1    6.447426    2.363645  \n",
              "2   18.370970   21.249285  \n",
              "3   31.786149   32.249518  \n",
              "4   22.133112   19.551439  \n",
              "5    3.452706    4.245426  \n",
              "6    8.623660    9.515948  \n",
              "7    8.850496   16.581633  \n",
              "8   21.607378    9.063516  \n",
              "9    7.796791    3.210258  \n",
              "\n",
              "[10 rows x 230 columns]"
            ],
            "text/html": [
              "\n",
              "  <div id=\"df-32c114ef-8e3e-45f9-ac4c-d59d42ba2847\">\n",
              "    <div class=\"colab-df-container\">\n",
              "      <div>\n",
              "<style scoped>\n",
              "    .dataframe tbody tr th:only-of-type {\n",
              "        vertical-align: middle;\n",
              "    }\n",
              "\n",
              "    .dataframe tbody tr th {\n",
              "        vertical-align: top;\n",
              "    }\n",
              "\n",
              "    .dataframe thead th {\n",
              "        text-align: right;\n",
              "    }\n",
              "</style>\n",
              "<table border=\"1\" class=\"dataframe\">\n",
              "  <thead>\n",
              "    <tr style=\"text-align: right;\">\n",
              "      <th></th>\n",
              "      <th>State</th>\n",
              "      <th>State1</th>\n",
              "      <th>Metro</th>\n",
              "      <th>County</th>\n",
              "      <th>Violent crime</th>\n",
              "      <th>Murder and \\nnon negligent \\nmanslaughter</th>\n",
              "      <th>Rape</th>\n",
              "      <th>Robbery</th>\n",
              "      <th>Aggravated \\nassault</th>\n",
              "      <th>Property \\ncrime</th>\n",
              "      <th>...</th>\n",
              "      <th>RDOMESTICMIG2019</th>\n",
              "      <th>RNETMIG2011</th>\n",
              "      <th>RNETMIG2012</th>\n",
              "      <th>RNETMIG2013</th>\n",
              "      <th>RNETMIG2014</th>\n",
              "      <th>RNETMIG2015</th>\n",
              "      <th>RNETMIG2016</th>\n",
              "      <th>RNETMIG2017</th>\n",
              "      <th>RNETMIG2018</th>\n",
              "      <th>RNETMIG2019</th>\n",
              "    </tr>\n",
              "  </thead>\n",
              "  <tbody>\n",
              "    <tr>\n",
              "      <th>0</th>\n",
              "      <td>ARIZONA</td>\n",
              "      <td>AZ</td>\n",
              "      <td>1.0</td>\n",
              "      <td>Cochise</td>\n",
              "      <td>47.0</td>\n",
              "      <td>0.0</td>\n",
              "      <td>1.0</td>\n",
              "      <td>3.0</td>\n",
              "      <td>43.0</td>\n",
              "      <td>531.0</td>\n",
              "      <td>...</td>\n",
              "      <td>-4.715990</td>\n",
              "      <td>5.465822</td>\n",
              "      <td>-12.002384</td>\n",
              "      <td>-22.079933</td>\n",
              "      <td>-21.690049</td>\n",
              "      <td>-9.686012</td>\n",
              "      <td>-7.773459</td>\n",
              "      <td>-7.224107</td>\n",
              "      <td>12.567904</td>\n",
              "      <td>-4.192872</td>\n",
              "    </tr>\n",
              "    <tr>\n",
              "      <th>1</th>\n",
              "      <td>ARIZONA</td>\n",
              "      <td>AZ</td>\n",
              "      <td>1.0</td>\n",
              "      <td>Coconino</td>\n",
              "      <td>127.0</td>\n",
              "      <td>6.0</td>\n",
              "      <td>17.0</td>\n",
              "      <td>1.0</td>\n",
              "      <td>103.0</td>\n",
              "      <td>264.0</td>\n",
              "      <td>...</td>\n",
              "      <td>2.188819</td>\n",
              "      <td>-10.606686</td>\n",
              "      <td>6.123785</td>\n",
              "      <td>-2.741483</td>\n",
              "      <td>-0.495871</td>\n",
              "      <td>3.623503</td>\n",
              "      <td>4.803683</td>\n",
              "      <td>-0.547248</td>\n",
              "      <td>6.447426</td>\n",
              "      <td>2.363645</td>\n",
              "    </tr>\n",
              "    <tr>\n",
              "      <th>2</th>\n",
              "      <td>ARIZONA</td>\n",
              "      <td>AZ</td>\n",
              "      <td>1.0</td>\n",
              "      <td>Mohave</td>\n",
              "      <td>135.0</td>\n",
              "      <td>3.0</td>\n",
              "      <td>6.0</td>\n",
              "      <td>19.0</td>\n",
              "      <td>107.0</td>\n",
              "      <td>1983.0</td>\n",
              "      <td>...</td>\n",
              "      <td>22.416620</td>\n",
              "      <td>14.124616</td>\n",
              "      <td>5.987803</td>\n",
              "      <td>3.380298</td>\n",
              "      <td>5.071959</td>\n",
              "      <td>10.539293</td>\n",
              "      <td>10.371086</td>\n",
              "      <td>14.606150</td>\n",
              "      <td>18.370970</td>\n",
              "      <td>21.249285</td>\n",
              "    </tr>\n",
              "    <tr>\n",
              "      <th>3</th>\n",
              "      <td>ARIZONA</td>\n",
              "      <td>AZ</td>\n",
              "      <td>1.0</td>\n",
              "      <td>Pinal</td>\n",
              "      <td>197.0</td>\n",
              "      <td>3.0</td>\n",
              "      <td>5.0</td>\n",
              "      <td>18.0</td>\n",
              "      <td>171.0</td>\n",
              "      <td>1469.0</td>\n",
              "      <td>...</td>\n",
              "      <td>31.178711</td>\n",
              "      <td>-9.572930</td>\n",
              "      <td>5.763575</td>\n",
              "      <td>2.792943</td>\n",
              "      <td>20.012296</td>\n",
              "      <td>21.175225</td>\n",
              "      <td>24.445587</td>\n",
              "      <td>30.618893</td>\n",
              "      <td>31.786149</td>\n",
              "      <td>32.249518</td>\n",
              "    </tr>\n",
              "    <tr>\n",
              "      <th>4</th>\n",
              "      <td>ARIZONA</td>\n",
              "      <td>AZ</td>\n",
              "      <td>1.0</td>\n",
              "      <td>Yavapai</td>\n",
              "      <td>193.0</td>\n",
              "      <td>5.0</td>\n",
              "      <td>0.0</td>\n",
              "      <td>4.0</td>\n",
              "      <td>184.0</td>\n",
              "      <td>860.0</td>\n",
              "      <td>...</td>\n",
              "      <td>19.859876</td>\n",
              "      <td>3.957093</td>\n",
              "      <td>8.467405</td>\n",
              "      <td>15.154393</td>\n",
              "      <td>19.137449</td>\n",
              "      <td>17.919324</td>\n",
              "      <td>21.662401</td>\n",
              "      <td>20.889990</td>\n",
              "      <td>22.133112</td>\n",
              "      <td>19.551439</td>\n",
              "    </tr>\n",
              "    <tr>\n",
              "      <th>5</th>\n",
              "      <td>ARIZONA</td>\n",
              "      <td>AZ</td>\n",
              "      <td>1.0</td>\n",
              "      <td>Yuma</td>\n",
              "      <td>136.0</td>\n",
              "      <td>7.0</td>\n",
              "      <td>17.0</td>\n",
              "      <td>6.0</td>\n",
              "      <td>106.0</td>\n",
              "      <td>807.0</td>\n",
              "      <td>...</td>\n",
              "      <td>1.678424</td>\n",
              "      <td>18.906513</td>\n",
              "      <td>-11.132055</td>\n",
              "      <td>-9.049260</td>\n",
              "      <td>-0.792179</td>\n",
              "      <td>-2.326263</td>\n",
              "      <td>2.744688</td>\n",
              "      <td>3.503266</td>\n",
              "      <td>3.452706</td>\n",
              "      <td>4.245426</td>\n",
              "    </tr>\n",
              "    <tr>\n",
              "      <th>6</th>\n",
              "      <td>ARIZONA</td>\n",
              "      <td>AZ</td>\n",
              "      <td>0.0</td>\n",
              "      <td>Gila</td>\n",
              "      <td>176.0</td>\n",
              "      <td>1.0</td>\n",
              "      <td>3.0</td>\n",
              "      <td>5.0</td>\n",
              "      <td>167.0</td>\n",
              "      <td>384.0</td>\n",
              "      <td>...</td>\n",
              "      <td>9.349002</td>\n",
              "      <td>-1.644844</td>\n",
              "      <td>-6.257399</td>\n",
              "      <td>1.490580</td>\n",
              "      <td>3.168347</td>\n",
              "      <td>2.207089</td>\n",
              "      <td>11.604943</td>\n",
              "      <td>8.210672</td>\n",
              "      <td>8.623660</td>\n",
              "      <td>9.515948</td>\n",
              "    </tr>\n",
              "    <tr>\n",
              "      <th>7</th>\n",
              "      <td>ARIZONA</td>\n",
              "      <td>AZ</td>\n",
              "      <td>0.0</td>\n",
              "      <td>Graham</td>\n",
              "      <td>61.0</td>\n",
              "      <td>4.0</td>\n",
              "      <td>0.0</td>\n",
              "      <td>0.0</td>\n",
              "      <td>57.0</td>\n",
              "      <td>104.0</td>\n",
              "      <td>...</td>\n",
              "      <td>15.800708</td>\n",
              "      <td>-8.077762</td>\n",
              "      <td>-10.412592</td>\n",
              "      <td>3.626692</td>\n",
              "      <td>7.943653</td>\n",
              "      <td>-14.297187</td>\n",
              "      <td>-8.881018</td>\n",
              "      <td>-16.124748</td>\n",
              "      <td>8.850496</td>\n",
              "      <td>16.581633</td>\n",
              "    </tr>\n",
              "    <tr>\n",
              "      <th>8</th>\n",
              "      <td>ARIZONA</td>\n",
              "      <td>AZ</td>\n",
              "      <td>0.0</td>\n",
              "      <td>La Paz</td>\n",
              "      <td>40.0</td>\n",
              "      <td>1.0</td>\n",
              "      <td>2.0</td>\n",
              "      <td>3.0</td>\n",
              "      <td>34.0</td>\n",
              "      <td>310.0</td>\n",
              "      <td>...</td>\n",
              "      <td>5.836714</td>\n",
              "      <td>5.547310</td>\n",
              "      <td>-2.285714</td>\n",
              "      <td>2.826304</td>\n",
              "      <td>1.559530</td>\n",
              "      <td>0.244010</td>\n",
              "      <td>11.674855</td>\n",
              "      <td>7.592978</td>\n",
              "      <td>21.607378</td>\n",
              "      <td>9.063516</td>\n",
              "    </tr>\n",
              "    <tr>\n",
              "      <th>9</th>\n",
              "      <td>ARIZONA</td>\n",
              "      <td>AZ</td>\n",
              "      <td>0.0</td>\n",
              "      <td>Navajo</td>\n",
              "      <td>43.0</td>\n",
              "      <td>1.0</td>\n",
              "      <td>0.0</td>\n",
              "      <td>5.0</td>\n",
              "      <td>37.0</td>\n",
              "      <td>341.0</td>\n",
              "      <td>...</td>\n",
              "      <td>2.812367</td>\n",
              "      <td>-9.282273</td>\n",
              "      <td>-8.852070</td>\n",
              "      <td>-7.638215</td>\n",
              "      <td>-0.558566</td>\n",
              "      <td>-6.259897</td>\n",
              "      <td>2.674626</td>\n",
              "      <td>1.296278</td>\n",
              "      <td>7.796791</td>\n",
              "      <td>3.210258</td>\n",
              "    </tr>\n",
              "  </tbody>\n",
              "</table>\n",
              "<p>10 rows × 230 columns</p>\n",
              "</div>\n",
              "      <button class=\"colab-df-convert\" onclick=\"convertToInteractive('df-32c114ef-8e3e-45f9-ac4c-d59d42ba2847')\"\n",
              "              title=\"Convert this dataframe to an interactive table.\"\n",
              "              style=\"display:none;\">\n",
              "        \n",
              "  <svg xmlns=\"http://www.w3.org/2000/svg\" height=\"24px\"viewBox=\"0 0 24 24\"\n",
              "       width=\"24px\">\n",
              "    <path d=\"M0 0h24v24H0V0z\" fill=\"none\"/>\n",
              "    <path d=\"M18.56 5.44l.94 2.06.94-2.06 2.06-.94-2.06-.94-.94-2.06-.94 2.06-2.06.94zm-11 1L8.5 8.5l.94-2.06 2.06-.94-2.06-.94L8.5 2.5l-.94 2.06-2.06.94zm10 10l.94 2.06.94-2.06 2.06-.94-2.06-.94-.94-2.06-.94 2.06-2.06.94z\"/><path d=\"M17.41 7.96l-1.37-1.37c-.4-.4-.92-.59-1.43-.59-.52 0-1.04.2-1.43.59L10.3 9.45l-7.72 7.72c-.78.78-.78 2.05 0 2.83L4 21.41c.39.39.9.59 1.41.59.51 0 1.02-.2 1.41-.59l7.78-7.78 2.81-2.81c.8-.78.8-2.07 0-2.86zM5.41 20L4 18.59l7.72-7.72 1.47 1.35L5.41 20z\"/>\n",
              "  </svg>\n",
              "      </button>\n",
              "      \n",
              "  <style>\n",
              "    .colab-df-container {\n",
              "      display:flex;\n",
              "      flex-wrap:wrap;\n",
              "      gap: 12px;\n",
              "    }\n",
              "\n",
              "    .colab-df-convert {\n",
              "      background-color: #E8F0FE;\n",
              "      border: none;\n",
              "      border-radius: 50%;\n",
              "      cursor: pointer;\n",
              "      display: none;\n",
              "      fill: #1967D2;\n",
              "      height: 32px;\n",
              "      padding: 0 0 0 0;\n",
              "      width: 32px;\n",
              "    }\n",
              "\n",
              "    .colab-df-convert:hover {\n",
              "      background-color: #E2EBFA;\n",
              "      box-shadow: 0px 1px 2px rgba(60, 64, 67, 0.3), 0px 1px 3px 1px rgba(60, 64, 67, 0.15);\n",
              "      fill: #174EA6;\n",
              "    }\n",
              "\n",
              "    [theme=dark] .colab-df-convert {\n",
              "      background-color: #3B4455;\n",
              "      fill: #D2E3FC;\n",
              "    }\n",
              "\n",
              "    [theme=dark] .colab-df-convert:hover {\n",
              "      background-color: #434B5C;\n",
              "      box-shadow: 0px 1px 3px 1px rgba(0, 0, 0, 0.15);\n",
              "      filter: drop-shadow(0px 1px 2px rgba(0, 0, 0, 0.3));\n",
              "      fill: #FFFFFF;\n",
              "    }\n",
              "  </style>\n",
              "\n",
              "      <script>\n",
              "        const buttonEl =\n",
              "          document.querySelector('#df-32c114ef-8e3e-45f9-ac4c-d59d42ba2847 button.colab-df-convert');\n",
              "        buttonEl.style.display =\n",
              "          google.colab.kernel.accessAllowed ? 'block' : 'none';\n",
              "\n",
              "        async function convertToInteractive(key) {\n",
              "          const element = document.querySelector('#df-32c114ef-8e3e-45f9-ac4c-d59d42ba2847');\n",
              "          const dataTable =\n",
              "            await google.colab.kernel.invokeFunction('convertToInteractive',\n",
              "                                                     [key], {});\n",
              "          if (!dataTable) return;\n",
              "\n",
              "          const docLinkHtml = 'Like what you see? Visit the ' +\n",
              "            '<a target=\"_blank\" href=https://colab.research.google.com/notebooks/data_table.ipynb>data table notebook</a>'\n",
              "            + ' to learn more about interactive tables.';\n",
              "          element.innerHTML = '';\n",
              "          dataTable['output_type'] = 'display_data';\n",
              "          await google.colab.output.renderOutput(dataTable, element);\n",
              "          const docLink = document.createElement('div');\n",
              "          docLink.innerHTML = docLinkHtml;\n",
              "          element.appendChild(docLink);\n",
              "        }\n",
              "      </script>\n",
              "    </div>\n",
              "  </div>\n",
              "  "
            ]
          },
          "metadata": {},
          "execution_count": 7
        }
      ]
    },
    {
      "cell_type": "code",
      "source": [
        "#compression_opts = dict(method='zip',\n",
        "#                       archive_name='out.csv')  \n",
        "#data.to_csv('out.zip', index=False,\n",
        "#          compression=compression_opts)"
      ],
      "metadata": {
        "id": "Y_aIU-PuFe9g"
      },
      "execution_count": null,
      "outputs": []
    },
    {
      "cell_type": "markdown",
      "source": [
        "##Create X and y variables"
      ],
      "metadata": {
        "id": "6Shc4Tg_w_Gj"
      }
    },
    {
      "cell_type": "code",
      "source": [
        "X = data[['2019', 'POPESTIMATE2019', 'Metro']].values\n",
        "X = np.asarray(X).astype(np.float32)\n",
        "y = data['Violent crime'].values"
      ],
      "metadata": {
        "id": "YZbEY-7vxE-r"
      },
      "execution_count": 8,
      "outputs": []
    },
    {
      "cell_type": "code",
      "source": [
        "print(X)"
      ],
      "metadata": {
        "colab": {
          "base_uri": "https://localhost:8080/"
        },
        "id": "r-b5B8-1pjLk",
        "outputId": "3639b6a8-ad75-4d00-bec5-34c6d8258bf5"
      },
      "execution_count": 9,
      "outputs": [
        {
          "output_type": "stream",
          "name": "stdout",
          "text": [
            "[[4.05460e+04 1.25922e+05 1.00000e+00]\n",
            " [4.88370e+04 1.43476e+05 1.00000e+00]\n",
            " [3.42740e+04 2.12181e+05 1.00000e+00]\n",
            " ...\n",
            " [4.13920e+04 2.02260e+04 0.00000e+00]\n",
            " [5.11380e+04 7.80500e+03 0.00000e+00]\n",
            " [4.66580e+04 6.92700e+03 0.00000e+00]]\n"
          ]
        }
      ]
    },
    {
      "cell_type": "markdown",
      "source": [
        "##Income Visualization"
      ],
      "metadata": {
        "id": "Vl8-Td0jm1Gc"
      }
    },
    {
      "cell_type": "code",
      "source": [
        "plt.hist(X[:, 0], bins=50)\n",
        "plt.gca().set(title='Frequency Histogram', ylabel='Frequency', xlabel='Income');"
      ],
      "metadata": {
        "colab": {
          "base_uri": "https://localhost:8080/",
          "height": 295
        },
        "id": "1pCyY4gSm3Pb",
        "outputId": "ceabdd5e-5753-4d1d-9e9d-5f4f13234464"
      },
      "execution_count": 10,
      "outputs": [
        {
          "output_type": "display_data",
          "data": {
            "text/plain": [
              "<Figure size 432x288 with 1 Axes>"
            ],
            "image/png": "[encoded data removed]"
          },
          "metadata": {
            "needs_background": "light"
          }
        }
      ]
    },
    {
      "cell_type": "markdown",
      "source": [
        "##Split into training and test set"
      ],
      "metadata": {
        "id": "IwW2hjjvIKOS"
      }
    },
    {
      "cell_type": "code",
      "source": [
        "from sklearn.model_selection import train_test_split\n",
        "X_train, X_test, y_train, y_test = train_test_split(X, y, test_size = 0.2)"
      ],
      "metadata": {
        "id": "CmtWD1HUIMno"
      },
      "execution_count": 11,
      "outputs": []
    },
    {
      "cell_type": "markdown",
      "source": [
        "##Feature Scaling"
      ],
      "metadata": {
        "id": "54RyVSZdIOqB"
      }
    },
    {
      "cell_type": "code",
      "source": [
        "from sklearn.preprocessing import StandardScaler\n",
        "sc = StandardScaler()\n",
        "X_train[:, :2] = sc.fit_transform(X_train[:, :2])\n",
        "X_test[:, :2] = sc.transform(X_test[:, :2])"
      ],
      "metadata": {
        "id": "JhXz5wBtIPzw"
      },
      "execution_count": 12,
      "outputs": []
    },
    {
      "cell_type": "markdown",
      "source": [
        "##Regression models"
      ],
      "metadata": {
        "id": "yrbXTfcRIfk3"
      }
    },
    {
      "cell_type": "markdown",
      "source": [
        "###Multiple linear regression"
      ],
      "metadata": {
        "id": "xF4HTTlvSchP"
      }
    },
    {
      "cell_type": "code",
      "source": [
        "from sklearn.linear_model import LinearRegression\n",
        "regressor = LinearRegression()\n",
        "regressor.fit(X_train, y_train)"
      ],
      "metadata": {
        "colab": {
          "base_uri": "https://localhost:8080/"
        },
        "id": "DW_RFGAAIiPX",
        "outputId": "161524c8-ce16-403b-c13f-6b8739ba23a0"
      },
      "execution_count": 9,
      "outputs": [
        {
          "output_type": "execute_result",
          "data": {
            "text/plain": [
              "LinearRegression()"
            ]
          },
          "metadata": {},
          "execution_count": 9
        }
      ]
    },
    {
      "cell_type": "markdown",
      "source": [
        "###Support vector regression"
      ],
      "metadata": {
        "id": "bTdj7a2eSg7m"
      }
    },
    {
      "cell_type": "code",
      "source": [
        "from sklearn.svm import SVR\n",
        "regressor = SVR(kernel = 'rbf')\n",
        "regressor.fit(X_train, y_train)"
      ],
      "metadata": {
        "colab": {
          "base_uri": "https://localhost:8080/"
        },
        "id": "gMfLkGUZSo1n",
        "outputId": "8eb20092-1826-45d6-bfd2-1fd010d9d741"
      },
      "execution_count": null,
      "outputs": [
        {
          "output_type": "execute_result",
          "data": {
            "text/plain": [
              "SVR()"
            ]
          },
          "metadata": {},
          "execution_count": 10
        }
      ]
    },
    {
      "cell_type": "markdown",
      "source": [
        "###Random forest regression"
      ],
      "metadata": {
        "id": "XAktpqyjS0PP"
      }
    },
    {
      "cell_type": "code",
      "source": [
        "from sklearn.ensemble import RandomForestRegressor\n",
        "regressor = RandomForestRegressor(n_estimators = 100, random_state = 0)\n",
        "regressor.fit(X_train, y_train)"
      ],
      "metadata": {
        "colab": {
          "base_uri": "https://localhost:8080/"
        },
        "id": "fuwpPOdpS5uG",
        "outputId": "4e004656-9807-46f1-cef7-c83a88ec2809"
      },
      "execution_count": 12,
      "outputs": [
        {
          "output_type": "execute_result",
          "data": {
            "text/plain": [
              "RandomForestRegressor(random_state=0)"
            ]
          },
          "metadata": {},
          "execution_count": 12
        }
      ]
    },
    {
      "cell_type": "markdown",
      "source": [
        "###XGBoost"
      ],
      "metadata": {
        "id": "taEWCemgTQLG"
      }
    },
    {
      "cell_type": "code",
      "source": [
        "from xgboost import XGBRegressor\n",
        "regressor = XGBRegressor(objective='reg:squarederror')\n",
        "regressor.fit(X_train, y_train)"
      ],
      "metadata": {
        "colab": {
          "base_uri": "https://localhost:8080/"
        },
        "id": "2yPV-tobTScd",
        "outputId": "d0890290-d864-49ae-f78a-0f8a9b006caf"
      },
      "execution_count": 13,
      "outputs": [
        {
          "output_type": "execute_result",
          "data": {
            "text/plain": [
              "XGBRegressor(objective='reg:squarederror')"
            ]
          },
          "metadata": {},
          "execution_count": 13
        }
      ]
    },
    {
      "cell_type": "markdown",
      "source": [
        "###Artificial neural network"
      ],
      "metadata": {
        "id": "saCVZyX2UJgA"
      }
    },
    {
      "cell_type": "code",
      "source": [
        "ann = tf.keras.models.Sequential()\n",
        "ann.add(tf.keras.layers.Dense(units=9, input_dim=3, activation='relu'))\n",
        "ann.add(tf.keras.layers.Dense(units=9, activation='relu'))\n",
        "ann.add(tf.keras.layers.Dense(units=9, activation='tanh'))\n",
        "ann.add(tf.keras.layers.Dense(units=1))\n",
        "ann.compile(loss='mean_squared_error', optimizer='adam', metrics = ['Accuracy'])"
      ],
      "metadata": {
        "id": "jW41iJC1UNI2"
      },
      "execution_count": null,
      "outputs": []
    },
    {
      "cell_type": "code",
      "source": [
        "ann.fit(X_train, y_train, batch_size = 32, epochs = 150)"
      ],
      "metadata": {
        "colab": {
          "base_uri": "https://localhost:8080/",
          "height": 165
        },
        "id": "8_W8QT80Vo8m",
        "outputId": "9d478915-6fa8-4921-9025-4a4a90c31bf3"
      },
      "execution_count": 10,
      "outputs": [
        {
          "output_type": "error",
          "ename": "NameError",
          "evalue": "ignored",
          "traceback": [
            "\u001b[0;31m---------------------------------------------------------------------------\u001b[0m",
            "\u001b[0;31mNameError\u001b[0m                                 Traceback (most recent call last)",
            "\u001b[0;32m<ipython-input-10-e96a0bcf3283>\u001b[0m in \u001b[0;36m<module>\u001b[0;34m()\u001b[0m\n\u001b[0;32m----> 1\u001b[0;31m \u001b[0mann\u001b[0m\u001b[0;34m.\u001b[0m\u001b[0mfit\u001b[0m\u001b[0;34m(\u001b[0m\u001b[0mX_train\u001b[0m\u001b[0;34m,\u001b[0m \u001b[0my_train\u001b[0m\u001b[0;34m,\u001b[0m \u001b[0mbatch_size\u001b[0m \u001b[0;34m=\u001b[0m \u001b[0;36m32\u001b[0m\u001b[0;34m,\u001b[0m \u001b[0mepochs\u001b[0m \u001b[0;34m=\u001b[0m \u001b[0;36m150\u001b[0m\u001b[0;34m)\u001b[0m\u001b[0;34m\u001b[0m\u001b[0;34m\u001b[0m\u001b[0m\n\u001b[0m",
            "\u001b[0;31mNameError\u001b[0m: name 'ann' is not defined"
          ]
        }
      ]
    },
    {
      "cell_type": "markdown",
      "source": [
        "###Predicting test set results"
      ],
      "metadata": {
        "id": "G3_LqjYuRFhm"
      }
    },
    {
      "cell_type": "code",
      "source": [
        "y_pred = regressor.predict(X_test)\n",
        "np.set_printoptions(precision=2)\n",
        "print(np.concatenate((y_pred.reshape(len(y_pred),1), y_test.reshape(len(y_test),1)),1))"
      ],
      "metadata": {
        "colab": {
          "base_uri": "https://localhost:8080/"
        },
        "id": "RU6iBi_GRlUu",
        "outputId": "56a7b821-f11d-4ce4-8d7e-14662fd2f639"
      },
      "execution_count": 14,
      "outputs": [
        {
          "output_type": "stream",
          "name": "stdout",
          "text": [
            "[[3.73e+01 6.00e+00]\n",
            " [1.45e+01 1.50e+01]\n",
            " [1.37e+02 5.00e+01]\n",
            " [4.35e+01 2.20e+01]\n",
            " [3.55e+01 6.00e+00]\n",
            " [2.40e+01 1.20e+01]\n",
            " [9.61e+00 2.00e+00]\n",
            " [5.75e+01 1.00e+01]\n",
            " [3.17e+01 9.00e+00]\n",
            " [1.09e+02 3.10e+02]\n",
            " [3.73e+01 3.60e+01]\n",
            " [1.14e+02 5.35e+03]\n",
            " [1.84e+01 3.30e+01]\n",
            " [6.34e+02 2.00e+01]\n",
            " [5.84e+01 6.20e+01]\n",
            " [2.84e+02 0.00e+00]\n",
            " [2.22e+01 0.00e+00]\n",
            " [5.50e+01 5.10e+01]\n",
            " [6.06e+00 0.00e+00]\n",
            " [5.49e+01 1.93e+02]\n",
            " [5.62e+00 5.00e+00]\n",
            " [8.71e+01 6.40e+01]\n",
            " [1.37e+01 5.00e+00]\n",
            " [1.03e+01 1.10e+01]\n",
            " [8.35e+01 5.70e+01]\n",
            " [6.53e+01 2.20e+01]\n",
            " [1.17e+02 1.21e+02]\n",
            " [2.99e+01 4.60e+01]\n",
            " [1.55e+01 1.30e+01]\n",
            " [1.40e+01 3.00e+01]\n",
            " [1.26e+01 1.20e+01]\n",
            " [1.15e+01 2.00e+00]\n",
            " [1.47e+01 5.00e+00]\n",
            " [2.72e+01 5.50e+01]\n",
            " [1.61e+02 5.60e+01]\n",
            " [1.15e+01 7.00e+00]\n",
            " [2.66e+01 1.40e+01]\n",
            " [1.41e+01 8.00e+00]\n",
            " [1.46e+01 7.00e+00]\n",
            " [1.64e+02 3.50e+01]\n",
            " [6.53e+01 4.00e+00]\n",
            " [1.94e+01 2.00e+00]\n",
            " [1.26e+01 5.00e+00]\n",
            " [1.15e+01 9.00e+00]\n",
            " [5.55e+00 9.00e+00]\n",
            " [1.04e+01 6.00e+00]\n",
            " [2.05e+01 5.20e+01]\n",
            " [9.60e+01 4.50e+01]\n",
            " [2.84e+02 8.70e+01]\n",
            " [1.55e+01 1.80e+01]\n",
            " [3.83e+02 2.00e+00]\n",
            " [1.81e+02 1.59e+02]\n",
            " [2.72e+01 2.20e+01]\n",
            " [1.98e+02 7.38e+02]\n",
            " [2.28e+01 2.90e+01]\n",
            " [3.55e+01 5.80e+01]\n",
            " [1.64e+01 0.00e+00]\n",
            " [1.41e+01 9.00e+00]\n",
            " [3.55e+01 6.00e+00]\n",
            " [9.13e+00 3.00e+00]\n",
            " [6.21e+01 1.26e+02]\n",
            " [4.12e+01 2.90e+01]\n",
            " [2.28e+01 3.60e+01]\n",
            " [2.66e+01 1.42e+02]\n",
            " [3.45e+01 1.90e+01]\n",
            " [1.27e+02 1.80e+01]\n",
            " [5.55e+00 2.00e+00]\n",
            " [1.04e+01 2.20e+01]\n",
            " [1.15e+01 3.00e+00]\n",
            " [2.28e+02 6.00e+01]\n",
            " [8.73e+01 1.68e+02]\n",
            " [2.72e+01 7.00e+00]\n",
            " [1.84e+01 2.60e+01]\n",
            " [1.19e+01 7.00e+00]\n",
            " [1.31e+02 3.60e+02]\n",
            " [1.94e+01 1.00e+01]\n",
            " [9.61e+00 2.00e+00]\n",
            " [4.35e+01 1.70e+01]\n",
            " [1.69e+01 3.00e+00]\n",
            " [8.78e+00 1.00e+00]\n",
            " [2.28e+01 1.10e+01]\n",
            " [1.68e+02 8.10e+01]\n",
            " [3.17e+01 6.00e+00]\n",
            " [7.02e+01 4.40e+01]\n",
            " [6.21e+01 5.60e+01]\n",
            " [2.66e+01 2.00e+00]\n",
            " [6.11e+01 3.00e+01]\n",
            " [1.94e+01 2.00e+00]\n",
            " [8.54e+01 1.30e+01]\n",
            " [1.47e+01 1.30e+01]\n",
            " [6.54e+02 4.45e+02]\n",
            " [1.94e+01 2.30e+01]\n",
            " [5.50e+01 7.50e+01]\n",
            " [2.32e+01 2.30e+01]\n",
            " [2.77e+01 5.10e+01]\n",
            " [1.69e+01 1.30e+01]\n",
            " [2.84e+01 4.60e+01]\n",
            " [1.81e+03 3.40e+01]\n",
            " [9.61e+00 2.00e+00]\n",
            " [1.64e+01 0.00e+00]\n",
            " [5.43e+01 1.60e+01]\n",
            " [2.72e+01 1.50e+01]\n",
            " [2.72e+01 1.40e+01]\n",
            " [3.85e+01 1.30e+01]\n",
            " [1.99e+02 2.28e+02]\n",
            " [1.77e+02 2.10e+01]\n",
            " [2.28e+01 5.00e+00]\n",
            " [2.05e+01 1.70e+01]\n",
            " [1.19e+01 1.00e+00]\n",
            " [8.35e+01 2.20e+01]\n",
            " [8.13e+02 1.15e+03]\n",
            " [1.99e+02 3.90e+02]\n",
            " [2.28e+01 6.00e+00]\n",
            " [6.78e+00 3.00e+00]\n",
            " [1.64e+01 1.00e+01]\n",
            " [1.15e+01 1.30e+01]\n",
            " [6.21e+01 3.70e+01]\n",
            " [1.11e+02 1.26e+02]\n",
            " [2.72e+01 8.00e+00]\n",
            " [1.61e+01 1.70e+01]\n",
            " [1.11e+02 5.16e+02]\n",
            " [4.12e+01 2.10e+01]\n",
            " [8.73e+01 7.70e+01]\n",
            " [1.42e+01 3.00e+00]\n",
            " [9.61e+00 6.00e+00]\n",
            " [1.42e+01 2.00e+00]\n",
            " [1.69e+01 6.00e+00]\n",
            " [1.65e+01 1.90e+01]\n",
            " [1.31e+02 5.30e+01]\n",
            " [3.85e+01 2.70e+01]\n",
            " [4.12e+01 1.00e+01]\n",
            " [5.98e+01 6.30e+01]\n",
            " [5.51e+03 2.31e+02]\n",
            " [1.31e+01 3.00e+01]\n",
            " [1.94e+01 5.00e+01]\n",
            " [5.50e+01 1.80e+01]\n",
            " [5.55e+00 3.00e+00]\n",
            " [6.06e+00 2.00e+00]\n",
            " [1.69e+01 2.00e+00]\n",
            " [3.85e+01 4.00e+00]\n",
            " [7.25e+01 2.40e+01]\n",
            " [6.99e+01 6.30e+01]\n",
            " [3.10e+01 9.30e+01]\n",
            " [1.73e+02 2.83e+02]\n",
            " [7.25e+01 1.00e+01]\n",
            " [5.10e+00 2.00e+00]\n",
            " [1.15e+01 3.00e+00]\n",
            " [1.71e+01 1.00e+01]\n",
            " [1.45e+01 2.30e+01]\n",
            " [1.66e+01 2.00e+00]\n",
            " [1.86e+01 0.00e+00]\n",
            " [1.95e+01 1.00e+00]\n",
            " [3.73e+01 1.01e+02]\n",
            " [8.35e+00 2.00e+00]\n",
            " [2.99e+01 5.00e+00]\n",
            " [1.86e+01 1.30e+01]\n",
            " [1.55e+01 5.00e+00]\n",
            " [6.21e+01 2.34e+02]\n",
            " [5.81e+02 3.49e+02]\n",
            " [6.06e+00 5.00e+00]\n",
            " [3.71e+01 2.90e+01]\n",
            " [1.57e+01 3.00e+00]\n",
            " [1.37e+02 2.10e+01]\n",
            " [5.12e+01 5.90e+01]\n",
            " [6.21e+01 8.80e+01]\n",
            " [5.84e+01 1.00e+01]\n",
            " [2.99e+01 5.00e+00]\n",
            " [3.71e+01 1.00e+00]\n",
            " [2.77e+01 6.10e+01]\n",
            " [8.35e+00 2.00e+00]\n",
            " [2.23e+01 2.10e+01]\n",
            " [1.66e+01 0.00e+00]\n",
            " [6.06e+01 2.40e+01]\n",
            " [7.60e+01 2.04e+02]\n",
            " [2.40e+01 6.00e+00]\n",
            " [2.58e+01 3.40e+01]\n",
            " [8.78e+00 2.50e+01]\n",
            " [4.12e+01 1.46e+02]\n",
            " [6.06e+00 7.00e+00]\n",
            " [1.46e+01 1.10e+01]\n",
            " [5.84e+01 9.00e+00]\n",
            " [2.40e+01 2.10e+01]\n",
            " [9.06e+01 3.80e+01]\n",
            " [5.75e+02 1.84e+02]\n",
            " [9.61e+00 3.00e+00]\n",
            " [1.17e+02 4.70e+01]\n",
            " [3.55e+01 2.10e+01]\n",
            " [3.73e+01 3.00e+01]\n",
            " [4.12e+01 1.60e+01]\n",
            " [2.23e+01 4.00e+00]\n",
            " [2.28e+01 2.70e+01]\n",
            " [1.71e+01 1.50e+01]\n",
            " [5.10e+00 1.00e+00]\n",
            " [1.36e+01 6.00e+00]\n",
            " [2.23e+01 3.30e+01]\n",
            " [2.99e+01 8.40e+01]\n",
            " [1.95e+01 3.30e+01]\n",
            " [1.15e+02 3.38e+02]\n",
            " [3.85e+01 1.70e+01]\n",
            " [5.12e+01 3.40e+01]\n",
            " [1.64e+01 1.00e+00]\n",
            " [1.95e+01 7.00e+00]\n",
            " [3.71e+01 5.00e+01]\n",
            " [6.06e+01 8.00e+00]\n",
            " [1.65e+01 6.00e+00]\n",
            " [1.41e+01 3.00e+00]\n",
            " [9.61e+00 1.40e+01]\n",
            " [2.45e+01 2.20e+01]\n",
            " [1.64e+01 1.10e+01]\n",
            " [1.21e+01 4.00e+00]\n",
            " [1.17e+02 2.18e+02]\n",
            " [2.99e+01 1.30e+01]\n",
            " [5.12e+01 3.10e+01]\n",
            " [1.04e+01 3.00e+00]\n",
            " [1.75e+02 1.70e+01]\n",
            " [6.06e+00 0.00e+00]\n",
            " [5.50e+01 8.90e+01]\n",
            " [1.64e+02 9.90e+01]\n",
            " [2.77e+01 7.10e+01]\n",
            " [1.15e+01 4.00e+00]\n",
            " [7.43e+01 1.44e+02]\n",
            " [5.49e+01 6.00e+00]\n",
            " [9.74e+02 9.32e+02]\n",
            " [4.12e+01 8.30e+01]\n",
            " [1.84e+01 1.10e+01]\n",
            " [5.09e+00 1.40e+01]\n",
            " [7.61e+01 7.70e+01]\n",
            " [9.60e+01 3.30e+01]\n",
            " [1.20e+02 7.50e+01]\n",
            " [8.35e+00 1.00e+01]\n",
            " [3.10e+01 1.30e+01]\n",
            " [3.73e+01 2.90e+01]\n",
            " [1.31e+01 0.00e+00]\n",
            " [6.83e+01 4.90e+01]\n",
            " [1.31e+01 1.00e+00]\n",
            " [2.93e+01 2.30e+01]\n",
            " [1.19e+01 6.00e+00]\n",
            " [1.36e+01 7.00e+00]\n",
            " [6.11e+01 2.90e+01]\n",
            " [2.74e+01 1.00e+01]\n",
            " [2.23e+01 8.00e+00]\n",
            " [2.66e+01 3.50e+01]\n",
            " [6.21e+01 4.90e+01]\n",
            " [3.17e+01 9.00e+00]\n",
            " [1.15e+01 0.00e+00]\n",
            " [1.64e+01 0.00e+00]\n",
            " [2.09e+02 2.14e+02]\n",
            " [3.76e+02 1.04e+03]\n",
            " [7.60e+01 4.80e+01]\n",
            " [1.55e+01 6.90e+01]\n",
            " [6.06e+01 2.70e+01]\n",
            " [1.64e+02 1.38e+02]\n",
            " [7.97e+01 5.50e+01]\n",
            " [1.46e+01 2.00e+00]\n",
            " [2.89e+02 4.30e+01]\n",
            " [3.64e+01 2.30e+01]\n",
            " [5.55e+00 6.00e+00]\n",
            " [1.55e+01 4.60e+01]\n",
            " [6.21e+02 9.03e+02]\n",
            " [1.77e+01 1.20e+01]\n",
            " [2.28e+01 4.10e+01]\n",
            " [1.65e+01 9.00e+00]\n",
            " [1.77e+01 2.00e+00]\n",
            " [5.50e+01 9.20e+01]\n",
            " [3.73e+01 4.40e+01]\n",
            " [6.83e+01 0.00e+00]\n",
            " [7.83e+02 1.07e+02]\n",
            " [8.01e+01 1.50e+01]\n",
            " [2.24e+01 1.20e+01]\n",
            " [5.29e+01 4.70e+01]\n",
            " [1.95e+01 1.50e+01]\n",
            " [2.77e+01 4.00e+01]\n",
            " [3.10e+01 5.40e+01]\n",
            " [6.03e+02 8.70e+01]\n",
            " [1.66e+01 3.00e+00]\n",
            " [1.66e+02 1.90e+01]\n",
            " [4.12e+02 4.46e+02]\n",
            " [2.27e+02 6.00e+01]\n",
            " [4.12e+01 1.21e+02]\n",
            " [2.28e+01 9.00e+00]\n",
            " [9.60e+01 5.60e+01]\n",
            " [3.73e+01 3.60e+01]\n",
            " [1.95e+01 2.80e+01]\n",
            " [1.41e+01 2.00e+00]\n",
            " [4.17e+01 3.00e+01]\n",
            " [3.04e+02 3.00e+00]\n",
            " [5.12e+01 6.60e+01]\n",
            " [1.17e+02 4.00e+01]\n",
            " [2.07e+02 1.93e+02]\n",
            " [1.47e+01 1.30e+01]\n",
            " [1.21e+02 1.18e+02]\n",
            " [1.03e+01 8.00e+00]\n",
            " [1.15e+01 2.00e+00]\n",
            " [3.73e+01 2.00e+01]\n",
            " [7.27e+00 2.00e+00]\n",
            " [5.55e+00 0.00e+00]\n",
            " [2.99e+01 4.00e+01]\n",
            " [1.84e+01 2.90e+01]\n",
            " [1.95e+01 8.00e+00]\n",
            " [1.72e+01 2.90e+01]\n",
            " [2.28e+01 4.70e+01]\n",
            " [9.24e+00 1.50e+01]\n",
            " [1.46e+01 8.00e+00]\n",
            " [4.12e+01 5.30e+01]\n",
            " [1.55e+01 1.00e+00]\n",
            " [2.59e+01 1.10e+01]\n",
            " [1.48e+01 8.00e+00]\n",
            " [9.06e+01 2.20e+01]\n",
            " [1.12e+02 3.70e+01]\n",
            " [5.62e+00 1.00e+00]\n",
            " [2.77e+01 1.09e+02]\n",
            " [6.21e+01 4.90e+01]\n",
            " [2.40e+01 6.00e+01]\n",
            " [1.55e+01 3.00e+00]\n",
            " [1.35e+02 0.00e+00]\n",
            " [1.42e+01 1.40e+01]\n",
            " [2.58e+01 3.20e+01]\n",
            " [3.85e+01 5.20e+01]\n",
            " [1.86e+01 3.40e+01]\n",
            " [1.64e+02 2.80e+01]\n",
            " [1.40e+01 2.90e+01]\n",
            " [1.19e+01 2.00e+00]\n",
            " [1.45e+01 1.30e+01]\n",
            " [2.58e+01 1.30e+01]\n",
            " [5.12e+01 5.60e+01]\n",
            " [2.59e+01 3.80e+01]\n",
            " [5.79e+01 1.30e+01]\n",
            " [1.65e+01 3.00e+00]\n",
            " [1.64e+01 3.00e+00]\n",
            " [1.65e+01 4.00e+00]\n",
            " [3.85e+01 5.10e+01]\n",
            " [1.95e+01 2.50e+01]\n",
            " [5.55e+00 0.00e+00]\n",
            " [2.93e+01 1.40e+01]\n",
            " [1.31e+02 8.70e+01]\n",
            " [2.99e+01 4.50e+01]\n",
            " [9.61e+00 0.00e+00]\n",
            " [6.06e+00 4.00e+00]\n",
            " [9.61e+00 1.00e+00]\n",
            " [1.35e+02 5.35e+02]\n",
            " [3.55e+01 6.00e+00]\n",
            " [2.58e+01 3.60e+01]\n",
            " [1.55e+01 1.00e+01]\n",
            " [1.26e+01 1.20e+01]\n",
            " [6.06e+01 9.00e+01]\n",
            " [2.53e+02 1.60e+01]\n",
            " [9.13e+00 0.00e+00]\n",
            " [2.99e+01 2.10e+01]\n",
            " [3.85e+01 6.00e+00]\n",
            " [1.86e+01 4.00e+00]\n",
            " [1.41e+01 2.50e+01]\n",
            " [1.28e+02 1.17e+02]\n",
            " [1.64e+01 1.00e+00]\n",
            " [3.36e+01 2.50e+01]\n",
            " [6.33e+00 5.00e+00]\n",
            " [2.72e+01 4.30e+01]\n",
            " [1.01e+01 6.00e+00]\n",
            " [5.11e+02 2.06e+02]\n",
            " [2.03e+02 0.00e+00]\n",
            " [6.11e+01 2.50e+01]\n",
            " [5.84e+01 1.70e+01]\n",
            " [1.69e+01 1.00e+00]\n",
            " [6.06e+00 3.00e+00]\n",
            " [1.63e+02 0.00e+00]\n",
            " [5.12e+01 8.60e+01]\n",
            " [6.21e+01 2.80e+01]\n",
            " [1.37e+01 8.00e+00]\n",
            " [2.75e+01 1.40e+01]\n",
            " [1.31e+01 4.10e+01]\n",
            " [8.87e+01 1.19e+02]\n",
            " [7.25e+01 3.60e+01]\n",
            " [3.73e+01 3.10e+01]\n",
            " [1.65e+01 2.00e+01]\n",
            " [2.93e+01 8.00e+00]\n",
            " [2.27e+02 7.10e+01]\n",
            " [1.12e+01 1.00e+01]\n",
            " [5.50e+01 7.00e+00]\n",
            " [1.69e+01 1.00e+00]\n",
            " [8.06e+02 6.92e+02]\n",
            " [7.29e+01 1.91e+02]\n",
            " [6.06e+00 0.00e+00]\n",
            " [1.15e+01 1.20e+01]\n",
            " [6.06e+00 4.00e+00]\n",
            " [1.08e+01 1.70e+01]\n",
            " [1.36e+01 2.90e+01]\n",
            " [1.15e+01 0.00e+00]\n",
            " [2.40e+01 6.20e+01]\n",
            " [6.11e+01 5.70e+01]\n",
            " [3.26e+02 2.00e+01]\n",
            " [2.99e+01 5.50e+01]\n",
            " [1.46e+01 1.00e+00]\n",
            " [2.58e+01 4.40e+01]\n",
            " [2.23e+01 5.00e+01]\n",
            " [1.19e+01 1.00e+01]\n",
            " [4.35e+01 3.40e+01]\n",
            " [1.54e+01 1.30e+01]\n",
            " [2.99e+01 3.80e+01]\n",
            " [1.73e+02 7.00e+01]\n",
            " [2.59e+01 2.90e+01]\n",
            " [3.12e+01 4.00e+00]\n",
            " [2.72e+01 2.40e+01]\n",
            " [1.28e+01 1.90e+01]\n",
            " [6.06e+00 3.10e+01]\n",
            " [5.84e+01 3.80e+01]\n",
            " [2.59e+01 6.20e+01]\n",
            " [1.42e+01 0.00e+00]\n",
            " [2.59e+01 1.90e+01]\n",
            " [3.12e+01 5.70e+01]\n",
            " [7.25e+01 5.80e+01]\n",
            " [7.38e+01 3.20e+01]\n",
            " [1.46e+01 9.00e+00]\n",
            " [1.55e+02 3.86e+02]\n",
            " [1.15e+01 8.00e+00]\n",
            " [1.42e+01 4.00e+00]\n",
            " [1.64e+01 8.00e+00]\n",
            " [3.90e+01 1.90e+01]\n",
            " [5.50e+01 3.30e+01]\n",
            " [1.75e+02 1.00e+00]\n",
            " [3.71e+01 3.40e+01]\n",
            " [1.26e+01 2.20e+01]]\n"
          ]
        }
      ]
    },
    {
      "cell_type": "markdown",
      "source": [
        "###Computing R2 value\n",
        "Unfortunately, the R2 value fluctuates wildly based on the random nature of the test / train split."
      ],
      "metadata": {
        "id": "_jD7KLPDSMKG"
      }
    },
    {
      "cell_type": "code",
      "source": [
        "from sklearn.metrics import r2_score\n",
        "r2_score(y_test, y_pred)"
      ],
      "metadata": {
        "colab": {
          "base_uri": "https://localhost:8080/"
        },
        "id": "VLkVMrQrSOvt",
        "outputId": "ad8dbff5-43bb-4b4b-d485-7516af49ac8f"
      },
      "execution_count": 16,
      "outputs": [
        {
          "output_type": "execute_result",
          "data": {
            "text/plain": [
              "-0.8008078649774761"
            ]
          },
          "metadata": {},
          "execution_count": 16
        }
      ]
    },
    {
      "cell_type": "markdown",
      "source": [
        "###Applying K-Fold cross validation\n",
        "Applying K-Fold cross validation shows a RSME of about 250 - 300, depending on the model, which is extremely high. The models are, unfortunately, not very predictive due to the drastic variation levels."
      ],
      "metadata": {
        "id": "CSucf8rLEh7S"
      }
    },
    {
      "cell_type": "code",
      "source": [
        "from sklearn.model_selection import train_test_split\n",
        "from sklearn.model_selection import KFold\n",
        "from sklearn.model_selection import cross_val_score\n",
        "from sklearn.linear_model import LinearRegression\n",
        "from numpy import mean\n",
        "from numpy import absolute\n",
        "from numpy import sqrt"
      ],
      "metadata": {
        "id": "Yp_7CCF90WmW"
      },
      "execution_count": 17,
      "outputs": []
    },
    {
      "cell_type": "code",
      "metadata": {
        "id": "yYbfiITD8ZAz",
        "colab": {
          "base_uri": "https://localhost:8080/"
        },
        "outputId": "190aa58c-4e4b-4e3c-9ca3-fcd0e66bbf6b"
      },
      "source": [
        "scores = cross_val_score(estimator = regressor, X = X_train, y = y_train, cv = 10, scoring='neg_mean_squared_error')\n",
        "sqrt(mean(absolute(scores)))"
      ],
      "execution_count": 18,
      "outputs": [
        {
          "output_type": "execute_result",
          "data": {
            "text/plain": [
              "248.47637031998894"
            ]
          },
          "metadata": {},
          "execution_count": 18
        }
      ]
    },
    {
      "cell_type": "markdown",
      "source": [
        "###SHAP Plots"
      ],
      "metadata": {
        "id": "kY0Ws-d106Hq"
      }
    },
    {
      "cell_type": "code",
      "source": [
        "pip install shap"
      ],
      "metadata": {
        "colab": {
          "base_uri": "https://localhost:8080/"
        },
        "id": "nAzmm3_71KXC",
        "outputId": "b30f0870-870c-4570-c6aa-d519b77cb11b"
      },
      "execution_count": 21,
      "outputs": [
        {
          "output_type": "stream",
          "name": "stdout",
          "text": [
            "Collecting shap\n",
            "  Downloading shap-0.40.0-cp37-cp37m-manylinux2010_x86_64.whl (564 kB)\n",
            "\u001b[?25l\r\u001b[K     |▋                               | 10 kB 19.6 MB/s eta 0:00:01\r\u001b[K     |█▏                              | 20 kB 22.8 MB/s eta 0:00:01\r\u001b[K     |█▊                              | 30 kB 14.2 MB/s eta 0:00:01\r\u001b[K     |██▎                             | 40 kB 9.8 MB/s eta 0:00:01\r\u001b[K     |███                             | 51 kB 6.0 MB/s eta 0:00:01\r\u001b[K     |███▌                            | 61 kB 7.0 MB/s eta 0:00:01\r\u001b[K     |████                            | 71 kB 7.1 MB/s eta 0:00:01\r\u001b[K     |████▋                           | 81 kB 6.7 MB/s eta 0:00:01\r\u001b[K     |█████▏                          | 92 kB 7.4 MB/s eta 0:00:01\r\u001b[K     |█████▉                          | 102 kB 7.6 MB/s eta 0:00:01\r\u001b[K     |██████▍                         | 112 kB 7.6 MB/s eta 0:00:01\r\u001b[K     |███████                         | 122 kB 7.6 MB/s eta 0:00:01\r\u001b[K     |███████▌                        | 133 kB 7.6 MB/s eta 0:00:01\r\u001b[K     |████████▏                       | 143 kB 7.6 MB/s eta 0:00:01\r\u001b[K     |████████▊                       | 153 kB 7.6 MB/s eta 0:00:01\r\u001b[K     |█████████▎                      | 163 kB 7.6 MB/s eta 0:00:01\r\u001b[K     |█████████▉                      | 174 kB 7.6 MB/s eta 0:00:01\r\u001b[K     |██████████▍                     | 184 kB 7.6 MB/s eta 0:00:01\r\u001b[K     |███████████                     | 194 kB 7.6 MB/s eta 0:00:01\r\u001b[K     |███████████▋                    | 204 kB 7.6 MB/s eta 0:00:01\r\u001b[K     |████████████▏                   | 215 kB 7.6 MB/s eta 0:00:01\r\u001b[K     |████████████▊                   | 225 kB 7.6 MB/s eta 0:00:01\r\u001b[K     |█████████████▍                  | 235 kB 7.6 MB/s eta 0:00:01\r\u001b[K     |██████████████                  | 245 kB 7.6 MB/s eta 0:00:01\r\u001b[K     |██████████████▌                 | 256 kB 7.6 MB/s eta 0:00:01\r\u001b[K     |███████████████                 | 266 kB 7.6 MB/s eta 0:00:01\r\u001b[K     |███████████████▋                | 276 kB 7.6 MB/s eta 0:00:01\r\u001b[K     |████████████████▎               | 286 kB 7.6 MB/s eta 0:00:01\r\u001b[K     |████████████████▉               | 296 kB 7.6 MB/s eta 0:00:01\r\u001b[K     |█████████████████▍              | 307 kB 7.6 MB/s eta 0:00:01\r\u001b[K     |██████████████████              | 317 kB 7.6 MB/s eta 0:00:01\r\u001b[K     |██████████████████▋             | 327 kB 7.6 MB/s eta 0:00:01\r\u001b[K     |███████████████████▏            | 337 kB 7.6 MB/s eta 0:00:01\r\u001b[K     |███████████████████▊            | 348 kB 7.6 MB/s eta 0:00:01\r\u001b[K     |████████████████████▎           | 358 kB 7.6 MB/s eta 0:00:01\r\u001b[K     |████████████████████▉           | 368 kB 7.6 MB/s eta 0:00:01\r\u001b[K     |█████████████████████▌          | 378 kB 7.6 MB/s eta 0:00:01\r\u001b[K     |██████████████████████          | 389 kB 7.6 MB/s eta 0:00:01\r\u001b[K     |██████████████████████▋         | 399 kB 7.6 MB/s eta 0:00:01\r\u001b[K     |███████████████████████▏        | 409 kB 7.6 MB/s eta 0:00:01\r\u001b[K     |███████████████████████▉        | 419 kB 7.6 MB/s eta 0:00:01\r\u001b[K     |████████████████████████▍       | 430 kB 7.6 MB/s eta 0:00:01\r\u001b[K     |█████████████████████████       | 440 kB 7.6 MB/s eta 0:00:01\r\u001b[K     |█████████████████████████▌      | 450 kB 7.6 MB/s eta 0:00:01\r\u001b[K     |██████████████████████████      | 460 kB 7.6 MB/s eta 0:00:01\r\u001b[K     |██████████████████████████▊     | 471 kB 7.6 MB/s eta 0:00:01\r\u001b[K     |███████████████████████████▎    | 481 kB 7.6 MB/s eta 0:00:01\r\u001b[K     |███████████████████████████▉    | 491 kB 7.6 MB/s eta 0:00:01\r\u001b[K     |████████████████████████████▍   | 501 kB 7.6 MB/s eta 0:00:01\r\u001b[K     |█████████████████████████████   | 512 kB 7.6 MB/s eta 0:00:01\r\u001b[K     |█████████████████████████████▋  | 522 kB 7.6 MB/s eta 0:00:01\r\u001b[K     |██████████████████████████████▏ | 532 kB 7.6 MB/s eta 0:00:01\r\u001b[K     |██████████████████████████████▊ | 542 kB 7.6 MB/s eta 0:00:01\r\u001b[K     |███████████████████████████████▎| 552 kB 7.6 MB/s eta 0:00:01\r\u001b[K     |████████████████████████████████| 563 kB 7.6 MB/s eta 0:00:01\r\u001b[K     |████████████████████████████████| 564 kB 7.6 MB/s \n",
            "\u001b[?25hRequirement already satisfied: scikit-learn in /usr/local/lib/python3.7/dist-packages (from shap) (1.0.2)\n",
            "Collecting slicer==0.0.7\n",
            "  Downloading slicer-0.0.7-py3-none-any.whl (14 kB)\n",
            "Requirement already satisfied: numba in /usr/local/lib/python3.7/dist-packages (from shap) (0.51.2)\n",
            "Requirement already satisfied: tqdm>4.25.0 in /usr/local/lib/python3.7/dist-packages (from shap) (4.63.0)\n",
            "Requirement already satisfied: packaging>20.9 in /usr/local/lib/python3.7/dist-packages (from shap) (21.3)\n",
            "Requirement already satisfied: scipy in /usr/local/lib/python3.7/dist-packages (from shap) (1.4.1)\n",
            "Requirement already satisfied: cloudpickle in /usr/local/lib/python3.7/dist-packages (from shap) (1.3.0)\n",
            "Requirement already satisfied: numpy in /usr/local/lib/python3.7/dist-packages (from shap) (1.21.5)\n",
            "Requirement already satisfied: pandas in /usr/local/lib/python3.7/dist-packages (from shap) (1.3.5)\n",
            "Requirement already satisfied: pyparsing!=3.0.5,>=2.0.2 in /usr/local/lib/python3.7/dist-packages (from packaging>20.9->shap) (3.0.7)\n",
            "Requirement already satisfied: llvmlite<0.35,>=0.34.0.dev0 in /usr/local/lib/python3.7/dist-packages (from numba->shap) (0.34.0)\n",
            "Requirement already satisfied: setuptools in /usr/local/lib/python3.7/dist-packages (from numba->shap) (57.4.0)\n",
            "Requirement already satisfied: python-dateutil>=2.7.3 in /usr/local/lib/python3.7/dist-packages (from pandas->shap) (2.8.2)\n",
            "Requirement already satisfied: pytz>=2017.3 in /usr/local/lib/python3.7/dist-packages (from pandas->shap) (2018.9)\n",
            "Requirement already satisfied: six>=1.5 in /usr/local/lib/python3.7/dist-packages (from python-dateutil>=2.7.3->pandas->shap) (1.15.0)\n",
            "Requirement already satisfied: threadpoolctl>=2.0.0 in /usr/local/lib/python3.7/dist-packages (from scikit-learn->shap) (3.1.0)\n",
            "Requirement already satisfied: joblib>=0.11 in /usr/local/lib/python3.7/dist-packages (from scikit-learn->shap) (1.1.0)\n",
            "Installing collected packages: slicer, shap\n",
            "Successfully installed shap-0.40.0 slicer-0.0.7\n"
          ]
        }
      ]
    },
    {
      "cell_type": "code",
      "source": [
        "import shap\n",
        "explainer = shap.Explainer(regressor)\n",
        "shap_values = explainer(X_test)"
      ],
      "metadata": {
        "id": "gXcxbw6508aL"
      },
      "execution_count": 23,
      "outputs": []
    },
    {
      "cell_type": "code",
      "source": [
        "shap.plots.beeswarm(shap_values)"
      ],
      "metadata": {
        "colab": {
          "base_uri": "https://localhost:8080/",
          "height": 216
        },
        "id": "X8-gzfg81uG5",
        "outputId": "72707998-1226-4cf8-9787-2723fd6dca07"
      },
      "execution_count": 25,
      "outputs": [
        {
          "output_type": "display_data",
          "data": {
            "text/plain": [
              "<Figure size 576x194.4 with 2 Axes>"
            ],
            "image/png": "[encoded data removed]"
          },
          "metadata": {
            "needs_background": "light"
          }
        }
      ]
    },
    {
      "cell_type": "code",
      "source": [
        "shap.plots.waterfall(shap_values[0])"
      ],
      "metadata": {
        "colab": {
          "base_uri": "https://localhost:8080/",
          "height": 253
        },
        "id": "3ZdctQ8V1_6C",
        "outputId": "8cd3a123-737b-499a-ac34-6d5608e86fbd"
      },
      "execution_count": 26,
      "outputs": [
        {
          "output_type": "display_data",
          "data": {
            "text/plain": [
              "<Figure size 576x216 with 3 Axes>"
            ],
            "image/png": "[encoded data removed]"
          },
          "metadata": {}
        }
      ]
    }
  ]
}